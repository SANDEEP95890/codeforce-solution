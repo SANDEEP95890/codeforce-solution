{
 "cells": [
  {
   "cell_type": "code",
   "execution_count": null,
   "metadata": {},
   "outputs": [],
   "source": [
    "1+2**1+2**2+2**3+2**4+2**5 "
   ]
  },
  {
   "cell_type": "code",
   "execution_count": null,
   "metadata": {},
   "outputs": [],
   "source": [
    "2**6-1"
   ]
  },
  {
   "cell_type": "code",
   "execution_count": null,
   "metadata": {},
   "outputs": [],
   "source": [
    "(1*(2**5-1))/(5-1)"
   ]
  },
  {
   "cell_type": "code",
   "execution_count": null,
   "metadata": {},
   "outputs": [],
   "source": [
    "import math"
   ]
  },
  {
   "cell_type": "code",
   "execution_count": null,
   "metadata": {},
   "outputs": [],
   "source": [
    "math.ceil(5.344)"
   ]
  },
  {
   "cell_type": "code",
   "execution_count": null,
   "metadata": {},
   "outputs": [],
   "source": [
    "math.floor(5.344)"
   ]
  },
  {
   "cell_type": "code",
   "execution_count": null,
   "metadata": {},
   "outputs": [],
   "source": [
    "w=int(input())\n",
    "if (w/2)%2==0:\n",
    "    print('YES')\n",
    "else:\n",
    "    print('NO')"
   ]
  },
  {
   "cell_type": "code",
   "execution_count": null,
   "metadata": {},
   "outputs": [],
   "source": [
    "n,m,a=map(int,input().split())\n",
    "l=math.ceil(n/a)\n",
    "b=math.ceil(m/a)\n",
    "print(l*b)"
   ]
  },
  {
   "cell_type": "code",
   "execution_count": null,
   "metadata": {},
   "outputs": [],
   "source": [
    "n=int(input())\n",
    "for i in range(n):\n",
    "    letter=input()\n",
    "    if len(letter)>10:\n",
    "        print(f'{letter[0]}{len(letter)-2}{letter[-1]}')\n",
    "    else:\n",
    "        print(letter)"
   ]
  },
  {
   "cell_type": "code",
   "execution_count": null,
   "metadata": {},
   "outputs": [],
   "source": [
    "#A. Anton and Polyhedrons\n",
    "\n",
    "n=int(input())\n",
    "count=0\n",
    "for i in range(n):\n",
    "    s=input()\n",
    "    \n",
    "    if s==\"Tetrahedron\" :\n",
    "        count +=4\n",
    "    elif s==\"Cube\":\n",
    "        count +=6\n",
    "    elif s==\"Octahedron\" :\n",
    "        count +=8\n",
    "    elif s==\"Dodecahedron\" :\n",
    "        count +=12\n",
    "    elif s==\"Icosahedron\":\n",
    "        count +=20\n",
    "print(count)"
   ]
  },
  {
   "cell_type": "code",
   "execution_count": null,
   "metadata": {},
   "outputs": [],
   "source": [
    "for i in range(5):\n",
    "    for j in range(5):\n",
    "        a=int(input())\n",
    "        if a==1:\n",
    "            break\n",
    "    if a==1:\n",
    "        break\n",
    "    \n",
    "move=abs(3-i)+abs(3-j)\n",
    "print(move)"
   ]
  },
  {
   "cell_type": "code",
   "execution_count": null,
   "metadata": {},
   "outputs": [],
   "source": [
    "########B. Taxi\n",
    "\n",
    "n=int(input())\n",
    "sn=list(map(int,input().split()))\n",
    "taxi=0\n",
    "one,two,three,taxi=0,0,0,0\n",
    "for i in sn:\n",
    "    if i==1:\n",
    "        one +=1\n",
    "    elif i==2:\n",
    "        two +=1\n",
    "    elif i==3:\n",
    "        three +=1\n",
    "    elif i==4:\n",
    "        taxi +=1\n",
    "    \n",
    "if three >=one:\n",
    "    one = 0\n",
    "else:\n",
    "    one = one - three\n",
    "taxi += three\n",
    "taxi += two//2\n",
    "if two%2!=0:\n",
    "    two = 1\n",
    "    if one >=2:\n",
    "        one = one -2\n",
    "        taxi += 1\n",
    "    elif one==1:\n",
    "        taxi += 1\n",
    "        two=0\n",
    "        one=0\n",
    "    else:\n",
    "        taxi += 1\n",
    "        two=0\n",
    "\n",
    "if one >= 4:\n",
    "    taxi += one//4\n",
    "    one = one - one//4*4\n",
    "if one > 0:\n",
    "    taxi +=1 \n",
    "    one=0\n",
    "    \n",
    "print(taxi,one,two,three)"
   ]
  },
  {
   "cell_type": "code",
   "execution_count": null,
   "metadata": {},
   "outputs": [],
   "source": [
    "##A. Next Round\n",
    "\n",
    "n,k=map(int,input().split())\n",
    "score=list(map(int,input().split()))\n",
    "cutoff=score[k-1]\n",
    "contestant =0\n",
    "for i in score:\n",
    "    if i >=cutoff and i>0:\n",
    "        contestant += 1\n",
    "print(contestant,cutoff)"
   ]
  },
  {
   "cell_type": "code",
   "execution_count": null,
   "metadata": {},
   "outputs": [],
   "source": [
    "matrix=[]\n",
    "for i in range(5):\n",
    "    a=list(map(int,input().split()))\n",
    "    matrix.append(a)\n",
    "\n",
    "for j in range(5):\n",
    "    for k in range(5):\n",
    "        if matrix[j][k] == 1:\n",
    "            break\n",
    "    if matrix[j][k] == 1:\n",
    "            break\n",
    "            \n",
    "move=abs(3-k)+abs(3-j)\n",
    "print(move)"
   ]
  },
  {
   "cell_type": "code",
   "execution_count": null,
   "metadata": {},
   "outputs": [],
   "source": [
    "string='Codeforces'\n",
    "vowels='AOYEUIaeiouy'\n",
    "for i in string:\n",
    "    if i not in vowels:\n",
    "        print('.',end=i.lower())"
   ]
  },
  {
   "cell_type": "code",
   "execution_count": null,
   "metadata": {},
   "outputs": [],
   "source": [
    "count=0\n",
    "n=int(input())\n",
    "for i in range(n):\n",
    "    ans=list(map(int.input()).split())\n",
    "    if sum(ans) >= 2:\n",
    "        count+=1\n",
    "print(count)"
   ]
  },
  {
   "cell_type": "code",
   "execution_count": null,
   "metadata": {},
   "outputs": [],
   "source": [
    "###A. Stones on the Table\n",
    "count=0\n",
    "n=int(input())\n",
    "s=input()\n",
    "if n<=1:\n",
    "    print(0)\n",
    "else:\n",
    "    for i in range(1,n):\n",
    "        print(i)\n",
    "        if s[i-1]==s[i]:\n",
    "            count += 1\n",
    "            i+=1\n",
    "    print(count)"
   ]
  },
  {
   "cell_type": "code",
   "execution_count": null,
   "metadata": {},
   "outputs": [],
   "source": [
    "###A. Boy or Girl\n",
    "\n",
    "s=set(input())\n",
    "if len(s)%2==0:\n",
    "    print( \"CHAT WITH HER!\")\n",
    "else:\n",
    "    print(\"IGNORE HIM!\")"
   ]
  },
  {
   "cell_type": "code",
   "execution_count": null,
   "metadata": {},
   "outputs": [],
   "source": [
    "####A. Young Physicist\n",
    "n=int(input())\n",
    "vector=[]\n",
    "x,y,z=0,0,0\n",
    "for i in range(n):\n",
    "    a=list(map(int,input().split()))\n",
    "    vector.append(a)\n",
    "vector\n",
    "for i in range(n):\n",
    "    x +=vector[i][0]\n",
    "    y +=vector[i][1]\n",
    "    z +=vector[i][2]\n",
    "if x==0 and y==0 and z==0:\n",
    "    print(\"YES\")\n",
    "else:\n",
    "    print(\"NO\")"
   ]
  },
  {
   "cell_type": "code",
   "execution_count": null,
   "metadata": {},
   "outputs": [],
   "source": [
    "#####A. Lucky Division\n",
    "\n",
    "n=int(input())\n",
    "lucky=[4,7,44,77,47,74,444,447,474,744,477,747,774,777]\n",
    "\n",
    "if n in lucky:\n",
    "    print(\"YES\")\n",
    "else:\n",
    "    for i in lucky:\n",
    "        if n%i==0:\n",
    "            print(\"YES\")\n",
    "            break\n",
    "            \n",
    "    if i==777:\n",
    "        print(\"NO\")"
   ]
  },
  {
   "cell_type": "code",
   "execution_count": null,
   "metadata": {},
   "outputs": [],
   "source": [
    "#####A. Chat room\n",
    "s=input()\n",
    "word=['h','e','l','l','o']\n",
    "flag,j=0,0\n",
    "for i in range(len(s)):\n",
    "    if s[i]==word[j]:\n",
    "        flag+=1\n",
    "        j += 1\n",
    "    if j==5:\n",
    "        break\n",
    "if flag==5:\n",
    "    print(\"YES\")\n",
    "else: print(\"NO\")"
   ]
  },
  {
   "cell_type": "code",
   "execution_count": null,
   "metadata": {},
   "outputs": [],
   "source": [
    "####A. Soldier and Bananas\n",
    "\n",
    "k,n,w=map(int,input().split())\n",
    "pay=0\n",
    "for i in range(1,w+1):\n",
    "    pay =pay+i*k\n",
    "if pay<n:\n",
    "    print(0)\n",
    "else:\n",
    "    print(pay-n)"
   ]
  },
  {
   "cell_type": "code",
   "execution_count": null,
   "metadata": {},
   "outputs": [],
   "source": [
    "#####A. Tram\n",
    "cap,tram=0,0\n",
    "n=int(input())\n",
    "for i in range(n):\n",
    "    a,b=map(int,input().split())\n",
    "    tram=tram+b\n",
    "    tram=tram-a\n",
    "    if cap<tram:\n",
    "        cap=tram\n",
    "print(cap)    "
   ]
  },
  {
   "cell_type": "code",
   "execution_count": null,
   "metadata": {},
   "outputs": [],
   "source": [
    "#######A. Bear and Big Brother\n",
    "a,b=map(int,input().split())\n",
    "year =0\n",
    "while a <= b:\n",
    "    a=a*3\n",
    "    b=b*2\n",
    "    year +=1\n",
    "print(year)"
   ]
  },
  {
   "cell_type": "code",
   "execution_count": null,
   "metadata": {},
   "outputs": [],
   "source": [
    "#####  A. Sum of Round Numbers\n",
    "\n",
    "t=int(input())\n",
    "for i in range(t):\n",
    "    n=input()\n",
    "    l=len(n)\n",
    "    count=0\n",
    "    for j in range(l):\n",
    "        if n[j]!='0':\n",
    "            count +=1\n",
    "    \n",
    "    print(count)        \n",
    "    for k in range(l):\n",
    "        if n[k]!='0':\n",
    "            print(n[k],end='')\n",
    "            print('0'*(len(n[k:])-1),end=' ')\n",
    "    print()"
   ]
  },
  {
   "cell_type": "code",
   "execution_count": 10,
   "metadata": {},
   "outputs": [
    {
     "name": "stdout",
     "output_type": "stream",
     "text": [
      "23\n",
      "3  4 4 33  3 4 6 6\n",
      "[33, 6, 6, 4, 4, 4, 3, 3]\n"
     ]
    }
   ],
   "source": [
    "#######A. Twins\n",
    "\n",
    "n=int(input())\n",
    "coin=list(map(int,input().split()))\n",
    "coin.sort(reverse=True)\n",
    "for i in range(n):\n",
    "    if sum(coin[:i+1]) > sum(coin[i+1:]):\n",
    "        print(len(coin[:i+1]))\n",
    "        break"
   ]
  },
  {
   "cell_type": "code",
   "execution_count": 48,
   "metadata": {},
   "outputs": [
    {
     "name": "stdout",
     "output_type": "stream",
     "text": [
      "5 1\n",
      "4\n"
     ]
    }
   ],
   "source": [
    "###A. Wrong Subtraction\n",
    "\n",
    "n,k=input().split()\n",
    "for i in range(int(k)):\n",
    "    if n[-1]!='0':\n",
    "        n=str(int(n)-1)\n",
    "    else:\n",
    "        n=str(int(n)//10)\n",
    "print(n)"
   ]
  },
  {
   "cell_type": "code",
   "execution_count": 51,
   "metadata": {},
   "outputs": [
    {
     "name": "stdout",
     "output_type": "stream",
     "text": [
      "12\n",
      "3\n"
     ]
    }
   ],
   "source": [
    "##########  A. Elephant\n",
    "\n",
    "x=int(input())\n",
    "if x%5==0:\n",
    "    print(x//5)\n",
    "else:\n",
    "    print(x//5 +1)"
   ]
  },
  {
   "cell_type": "code",
   "execution_count": 70,
   "metadata": {},
   "outputs": [
    {
     "name": "stdout",
     "output_type": "stream",
     "text": [
      "Hi!\n",
      "YES\n"
     ]
    }
   ],
   "source": [
    "####### A. HQ9+\n",
    "\n",
    "p=input()\n",
    "for i in p:\n",
    "    if i=='H':\n",
    "        print(\"YES\")\n",
    "        i='~'\n",
    "        break\n",
    "    elif i=='Q':\n",
    "        print(\"YES\")\n",
    "        i='~'\n",
    "        break\n",
    "    elif i=='9':\n",
    "        print(\"YbrjhgewrgejhfwgrhjhweJKQWHKJdkj,g,gjghgser6hevvbhkhjgbvbdvndcn cnbxvbcvbncvgkuujhjhfsjdfjsdfsdnbsdnbcndb\n",
    "              ccbxbcbES\")\n",
    "        i='~'\n",
    "        break\n",
    "if i==p[-1]:\n",
    "    print(\"NO\")"
   ]
  },
  {
   "cell_type": "code",
   "execution_count": 37,
   "metadata": {},
   "outputs": [
    {
     "name": "stdout",
     "output_type": "stream",
     "text": [
      "5 1\n",
      "BGGBG\n",
      "1\n",
      "['G', 'B', 'G', 'B', 'G'] 1\n",
      "2\n",
      "['G', 'G', 'B', 'B', 'G'] 2\n",
      "3\n",
      "4\n",
      "['G', 'G', 'B', 'G', 'B'] 4\n"
     ]
    }
   ],
   "source": [
    "######    B. Queue at the School\n",
    "\n",
    "n,t=map(int,input().split())\n",
    "queue=list(input().strip())\n",
    "\n",
    "for i in range(t):\n",
    "    for k in range(1,n):\n",
    "        if queue[k-1] == 'B' and queue[k]=='G':\n",
    "            queue[k-1],queue[k]= queue[k],queue[k-1]\n",
    "            k+=1\n",
    "for j in queue:\n",
    "    print(j,end='')           "
   ]
  },
  {
   "cell_type": "code",
   "execution_count": 44,
   "metadata": {},
   "outputs": [
    {
     "name": "stdout",
     "output_type": "stream",
     "text": [
      "5 1\n",
      "BGGBG\n",
      "GBGGB"
     ]
    }
   ],
   "source": [
    "######    B. Queue at the School\n",
    "\n",
    "n,t=map(int,input().split())\n",
    "queue=list(input().strip())\n",
    "\n",
    "for i in range(t):\n",
    "    k=1\n",
    "    while k < n:\n",
    "        if queue[k-1] == 'B' and queue[k]=='G':\n",
    "            queue[k-1],queue[k]= queue[k],queue[k-1]\n",
    "            k+=1\n",
    "        k+=1\n",
    "for j in queue:\n",
    "    print(j,end='')"
   ]
  },
  {
   "cell_type": "code",
   "execution_count": 48,
   "metadata": {},
   "outputs": [
    {
     "data": {
      "text/plain": [
       "{'ghfsg': 1}"
      ]
     },
     "execution_count": 48,
     "metadata": {},
     "output_type": "execute_result"
    }
   ],
   "source": [
    "d={}\n",
    "s='ghfsg'\n",
    "d[s]=1\n",
    "d"
   ]
  },
  {
   "cell_type": "code",
   "execution_count": 67,
   "metadata": {},
   "outputs": [
    {
     "name": "stdout",
     "output_type": "stream",
     "text": [
      "7747774\n",
      "YES\n"
     ]
    }
   ],
   "source": [
    "#####   A. Nearly Lucky Number\n",
    "\n",
    "n=input()\n",
    "l=len(n)\n",
    "count=0\n",
    "\n",
    "for i in range(l):\n",
    "    if n[i] == '4' or n[i] == '7':\n",
    "        count += 1\n",
    "if count==4 or count==7:\n",
    "    print(\"YES\")\n",
    "else:\n",
    "    print(\"NO\")"
   ]
  },
  {
   "cell_type": "code",
   "execution_count": 69,
   "metadata": {},
   "outputs": [
    {
     "name": "stdout",
     "output_type": "stream",
     "text": [
      "code\n",
      "edoc\n",
      "YES\n"
     ]
    }
   ],
   "source": [
    "#####  A. Translation\n",
    "s=input()\n",
    "t=input()\n",
    "if t==s[::-1]:\n",
    "    print(\"YES\")\n",
    "else:\n",
    "    print(\"NO\")"
   ]
  },
  {
   "cell_type": "code",
   "execution_count": 71,
   "metadata": {},
   "outputs": [
    {
     "name": "stdout",
     "output_type": "stream",
     "text": [
      "3\n",
      "1 10\n",
      "0 10\n",
      "10 10\n",
      "2\n"
     ]
    }
   ],
   "source": [
    "######   A. George and Accommodation\n",
    "\n",
    "n=int(input())\n",
    "count=0\n",
    "for i in range(n):\n",
    "    p,q=map(int,input().split())\n",
    "    if q-p >= 2:\n",
    "        count += 1\n",
    "print(count)"
   ]
  },
  {
   "cell_type": "code",
   "execution_count": 104,
   "metadata": {},
   "outputs": [
    {
     "name": "stdout",
     "output_type": "stream",
     "text": [
      "A\n",
      "a\n"
     ]
    }
   ],
   "source": [
    "######  A. cAPS lOCK\n",
    "\n",
    "s = input()\n",
    "if len(s)<2:\n",
    "    s=s.swapcase()\n",
    "    print(s)\n",
    "else:\n",
    "    if s[1:].isupper():\n",
    "        s=s.swapcase()\n",
    "        print(s)\n",
    "    else:\n",
    "        print(s)"
   ]
  },
  {
   "cell_type": "code",
   "execution_count": 7,
   "metadata": {},
   "outputs": [
    {
     "name": "stdout",
     "output_type": "stream",
     "text": [
      "maTRIx\n",
      "matrix\n"
     ]
    }
   ],
   "source": [
    "#####   A. Word\n",
    "\n",
    "s=input()\n",
    "cap=0\n",
    "for i in s:\n",
    "    if ord(i) < 97:\n",
    "        cap+=1\n",
    "small=len(s)-cap\n",
    "if small >= cap:\n",
    "    s=s.lower()\n",
    "else:\n",
    "    s=s.upper()\n",
    "print(s)"
   ]
  },
  {
   "cell_type": "code",
   "execution_count": 8,
   "metadata": {},
   "outputs": [
    {
     "name": "stdout",
     "output_type": "stream",
     "text": [
      "6\n",
      "ADAAAA\n",
      "Anton\n"
     ]
    }
   ],
   "source": [
    "######   A. Anton and Danik\n",
    "\n",
    "n=int(input())\n",
    "s=input()\n",
    "A,D=0,0\n",
    "for i in s:\n",
    "    if i=='A':\n",
    "        A+=1\n",
    "    else:\n",
    "        D+=1\n",
    "if A>D:\n",
    "    print(\"Anton\")\n",
    "elif A==D:\n",
    "    print(\"Friendship\")\n",
    "else:\n",
    "    print(\"Danik\")"
   ]
  },
  {
   "cell_type": "code",
   "execution_count": 14,
   "metadata": {},
   "outputs": [
    {
     "name": "stdout",
     "output_type": "stream",
     "text": [
      "3\n",
      "2 2 9\n",
      "3\n"
     ]
    }
   ],
   "source": [
    "######## A. Kefa and First Steps\n",
    "\n",
    "n=int(input())\n",
    "a=list(map(int,input().split()))\n",
    "sub=1\n",
    "maxsub=1\n",
    "for i in range(1,n):\n",
    "    if a[i-1] <= a[i]:\n",
    "        sub += 1\n",
    "        if maxsub<sub:\n",
    "            maxsub=sub\n",
    "    else:\n",
    "        sub=1\n",
    "print(maxsub)"
   ]
  },
  {
   "cell_type": "code",
   "execution_count": 35,
   "metadata": {},
   "outputs": [
    {
     "name": "stdout",
     "output_type": "stream",
     "text": [
      "4\n",
      "2 3 4 1\n",
      "4 1 2 3 "
     ]
    }
   ],
   "source": [
    "n = int(input())\n",
    "p = list(map(int,input().split()))\n",
    "a = n*[0]\n",
    "for x in range(n):\n",
    "    a[p[x]-1] = x+1 \n",
    "for x in range(n):\n",
    "    print(a[x],end=' ')"
   ]
  },
  {
   "cell_type": "code",
   "execution_count": 70,
   "metadata": {},
   "outputs": [
    {
     "name": "stdout",
     "output_type": "stream",
     "text": [
      "1987\n",
      "2013\n"
     ]
    }
   ],
   "source": [
    "##### A. Beautiful Year\n",
    "\n",
    "y=input()\n",
    "flag=1\n",
    "while flag:\n",
    "    y=str(int(y)+1)\n",
    "    if len(set(y))==4 :\n",
    "        flag=0\n",
    "print(y)"
   ]
  },
  {
   "cell_type": "code",
   "execution_count": 72,
   "metadata": {},
   "outputs": [
    {
     "data": {
      "text/plain": [
       "str"
      ]
     },
     "execution_count": 72,
     "metadata": {},
     "output_type": "execute_result"
    }
   ],
   "source": [
    "y='1987'\n",
    "y=str(int(y)+1)\n",
    "type(y)"
   ]
  },
  {
   "cell_type": "code",
   "execution_count": 4,
   "metadata": {},
   "outputs": [
    {
     "name": "stdout",
     "output_type": "stream",
     "text": [
      "5858 1234\n",
      "5624\n"
     ]
    }
   ],
   "source": [
    "######  Ciel and A-B Problem Solved\n",
    "\n",
    "A,B=map(int,input().split())\n",
    "C=A-B\n",
    "C=str(C)\n",
    "if C[0]=='4':\n",
    "    print('5',end='')\n",
    "else:print('4',end='')\n",
    "print(C[1:])"
   ]
  },
  {
   "cell_type": "code",
   "execution_count": 36,
   "metadata": {},
   "outputs": [
    {
     "name": "stdout",
     "output_type": "stream",
     "text": [
      "4 9 1 32 13\n",
      "3\n"
     ]
    }
   ],
   "source": [
    "s=list(map(int,input().split()))\n",
    "s.sort()\n",
    "mini= s[1] - s[0]\n",
    "l=len(s)\n",
    "for i in range(2,l):\n",
    "    skill= s[i] - s[i-1]\n",
    "    if skill < mini:\n",
    "        mini=skill\n",
    "print(mini)"
   ]
  },
  {
   "cell_type": "code",
   "execution_count": 26,
   "metadata": {},
   "outputs": [
    {
     "data": {
      "text/plain": [
       "4"
      ]
     },
     "execution_count": 26,
     "metadata": {},
     "output_type": "execute_result"
    }
   ],
   "source": [
    "s[3]-s[2]"
   ]
  },
  {
   "cell_type": "code",
   "execution_count": 34,
   "metadata": {},
   "outputs": [
    {
     "name": "stdout",
     "output_type": "stream",
     "text": [
      "4\n",
      "33 44 11 22\n",
      "2\n"
     ]
    }
   ],
   "source": [
    "####A. Arrival of the General\n",
    "n=int(input())\n",
    "a=list(map(int,input().split()))\n",
    "M=0\n",
    "m=a[0]\n",
    "i=0\n",
    "while i<n:\n",
    "    if M<a[i]:\n",
    "        M=a[i]\n",
    "        Mi=i\n",
    "    if m>=a[i]:\n",
    "        m=a[i]\n",
    "        mi=i\n",
    "    i+=1\n",
    "if Mi>mi:\n",
    "    print(Mi+n-mi-2)\n",
    "else:\n",
    "    print(Mi+n-mi-1)"
   ]
  },
  {
   "cell_type": "code",
   "execution_count": 37,
   "metadata": {},
   "outputs": [
    {
     "name": "stdout",
     "output_type": "stream",
     "text": [
      "7 7 7 7\n",
      "3\n"
     ]
    }
   ],
   "source": [
    "######   A. Is your horseshoe on the other hoof?\n",
    "\n",
    "s=set(map(int,input().split()))\n",
    "print(4-len(s))"
   ]
  },
  {
   "cell_type": "code",
   "execution_count": 72,
   "metadata": {},
   "outputs": [
    {
     "name": "stdout",
     "output_type": "stream",
     "text": [
      "{}\n",
      "0\n"
     ]
    }
   ],
   "source": [
    "#####3 A. Anton and Letters\n",
    "n=set(input().strip())\n",
    "n.remove('{'),n.remove('}')\n",
    "if ' ' in n:\n",
    "    n.remove(' ')\n",
    "if ',' in n:\n",
    "    n.remove(',')\n",
    "print(len(n))"
   ]
  },
  {
   "cell_type": "code",
   "execution_count": 8,
   "metadata": {},
   "outputs": [
    {
     "name": "stdout",
     "output_type": "stream",
     "text": [
      "1\n",
      "1 2\n",
      "0\n"
     ]
    }
   ],
   "source": [
    "###### A. Games\n",
    "\n",
    "n=int(input())\n",
    "h,a=[0]*n,[0]*n\n",
    "for i in range(n):\n",
    "    h[i],a[i]=map(int,input().split())\n",
    "count=0\n",
    "for i in range(n):\n",
    "    for j in range(n):\n",
    "        if h[i]==a[j]:\n",
    "            count+=1\n",
    "print(count)"
   ]
  },
  {
   "cell_type": "code",
   "execution_count": 11,
   "metadata": {},
   "outputs": [
    {
     "name": "stdout",
     "output_type": "stream",
     "text": [
      "2 2\n",
      "Malvika\n"
     ]
    }
   ],
   "source": [
    "#### A. Game With Sticks\n",
    "\n",
    "n,m=map(int,input().split())\n",
    "if min(n,m)%2==0:\n",
    "    print(\"Malvika\")\n",
    "else:\n",
    "    print(\"Akshat\")"
   ]
  },
  {
   "cell_type": "code",
   "execution_count": 24,
   "metadata": {},
   "outputs": [
    {
     "name": "stdout",
     "output_type": "stream",
     "text": [
      "35\n",
      "TheQuickBrownFoxJumpsOverTheLazyDog\n",
      "YES\n"
     ]
    }
   ],
   "source": [
    "###   A. Pangram\n",
    "n=int(input())\n",
    "s=input().lower()\n",
    "if len(set(s))<26:\n",
    "    print(\"NO\")\n",
    "else:\n",
    "    print(\"YES\")"
   ]
  },
  {
   "cell_type": "code",
   "execution_count": 25,
   "metadata": {},
   "outputs": [
    {
     "name": "stdout",
     "output_type": "stream",
     "text": [
      "5\n",
      "10 4\n",
      "2\n",
      "13 9\n",
      "4\n",
      "100 13\n",
      "9\n",
      "123 456\n",
      "123\n",
      "92 46\n",
      "0\n"
     ]
    }
   ],
   "source": [
    "#######   A. Divisibility Problem\n",
    "\n",
    "t=int(input())\n",
    "for i in range(t):\n",
    "    a,b=map(int,input().split())\n",
    "    if a%b!=0:\n",
    "        print(b-a%b)\n",
    "    else:\n",
    "        print(0)\n",
    "    "
   ]
  },
  {
   "cell_type": "code",
   "execution_count": 40,
   "metadata": {},
   "outputs": [
    {
     "name": "stdout",
     "output_type": "stream",
     "text": [
      "abc\n",
      "def\n",
      "abdefc\n",
      "['a', 'b', 'c', 'd', 'e', 'f'] ['a', 'b', 'c', 'd', 'e', 'f']\n"
     ]
    },
    {
     "data": {
      "text/plain": [
       "True"
      ]
     },
     "execution_count": 40,
     "metadata": {},
     "output_type": "execute_result"
    }
   ],
   "source": [
    "#####  Amusing Joke\n",
    "\n",
    "g=list(input().strip())\n",
    "h=list(input().strip())\n",
    "p=list(input().strip())\n",
    "g=g+h\n",
    "g.sort()\n",
    "p.sort()\n",
    "if g==p:\n",
    "    print(\"YES\")\n",
    "else:\n",
    "    print(\"NO\")"
   ]
  },
  {
   "cell_type": "code",
   "execution_count": 43,
   "metadata": {},
   "outputs": [
    {
     "name": "stdout",
     "output_type": "stream",
     "text": [
      "7 15\n",
      "15 5 3 7 9 14 0\n"
     ]
    },
    {
     "ename": "IndexError",
     "evalue": "list index out of range",
     "output_type": "error",
     "traceback": [
      "\u001b[1;31m---------------------------------------------------------------------------\u001b[0m",
      "\u001b[1;31mIndexError\u001b[0m                                Traceback (most recent call last)",
      "\u001b[1;32m<ipython-input-43-4b4e39867569>\u001b[0m in \u001b[0;36m<module>\u001b[1;34m\u001b[0m\n\u001b[0;32m      6\u001b[0m \u001b[0mmaxi\u001b[0m\u001b[1;33m=\u001b[0m\u001b[1;36m0\u001b[0m\u001b[1;33m\u001b[0m\u001b[1;33m\u001b[0m\u001b[0m\n\u001b[0;32m      7\u001b[0m \u001b[1;32mfor\u001b[0m \u001b[0mi\u001b[0m \u001b[1;32min\u001b[0m \u001b[0mrange\u001b[0m\u001b[1;33m(\u001b[0m\u001b[1;36m1\u001b[0m\u001b[1;33m,\u001b[0m\u001b[0ml\u001b[0m\u001b[1;33m)\u001b[0m\u001b[1;33m:\u001b[0m\u001b[1;33m\u001b[0m\u001b[1;33m\u001b[0m\u001b[0m\n\u001b[1;32m----> 8\u001b[1;33m     \u001b[0md\u001b[0m\u001b[1;33m=\u001b[0m\u001b[0ma\u001b[0m\u001b[1;33m[\u001b[0m\u001b[0mi\u001b[0m\u001b[1;33m]\u001b[0m\u001b[1;33m-\u001b[0m\u001b[0ma\u001b[0m\u001b[1;33m[\u001b[0m\u001b[0mi\u001b[0m\u001b[1;33m-\u001b[0m\u001b[1;36m1\u001b[0m\u001b[1;33m]\u001b[0m\u001b[1;33m\u001b[0m\u001b[1;33m\u001b[0m\u001b[0m\n\u001b[0m\u001b[0;32m      9\u001b[0m     \u001b[1;32mif\u001b[0m \u001b[0md\u001b[0m\u001b[1;33m>\u001b[0m\u001b[0mmaxi\u001b[0m\u001b[1;33m:\u001b[0m\u001b[1;33m\u001b[0m\u001b[1;33m\u001b[0m\u001b[0m\n\u001b[0;32m     10\u001b[0m         \u001b[0mmaxi\u001b[0m\u001b[1;33m=\u001b[0m\u001b[0md\u001b[0m\u001b[1;33m\u001b[0m\u001b[1;33m\u001b[0m\u001b[0m\n",
      "\u001b[1;31mIndexError\u001b[0m: list index out of range"
     ]
    }
   ],
   "source": [
    "#######  B. Vanya and Lanterns\n",
    "\n",
    "n,l=map(int,input().split())\n",
    "a=list(map(int,input().split()))\n",
    "a.sort()\n",
    "maxi=0\n",
    "for i in range(1,n):\n",
    "    d=a[i]-a[i-1]\n",
    "    if d>maxi:\n",
    "        maxi=d\n",
    "print(maxi/2)"
   ]
  },
  {
   "cell_type": "code",
   "execution_count": 56,
   "metadata": {},
   "outputs": [
    {
     "name": "stdout",
     "output_type": "stream",
     "text": [
      "9 9\n",
      "#########\n",
      "........#\n",
      "#########\n",
      "#........\n",
      "#########\n",
      "........#\n",
      "#########\n",
      "#........\n",
      "#########\n"
     ]
    }
   ],
   "source": [
    "#########   A. Fox And Snake\n",
    "\n",
    "n,m=map(int,input().split())\n",
    "f=1\n",
    "for i in range(1,n+1):\n",
    "    if i%2!=0:\n",
    "        for j in range(1,m+1):\n",
    "            print(\"#\",end='')\n",
    "        print()\n",
    "    else:\n",
    "        if f%2!=0:\n",
    "            for j in range(1,m)    :\n",
    "                print(\".\",end='')\n",
    "            print(\"#\")\n",
    "            f+=1\n",
    "        else:\n",
    "            print(\"#\",end='')\n",
    "            for j in range(1,m)    :\n",
    "                print(\".\",end='')\n",
    "            print()\n",
    "            f+=1\n",
    "        "
   ]
  },
  {
   "cell_type": "code",
   "execution_count": 60,
   "metadata": {},
   "outputs": [
    {
     "name": "stdout",
     "output_type": "stream",
     "text": [
      "7 3\n",
      "3 2\n"
     ]
    }
   ],
   "source": [
    "#######  A. Vasya the Hipster\n",
    "\n",
    "a,b=map(int,input().split())\n",
    "c=abs(a-b)\n",
    "d=min(a,b)\n",
    "print(d,c//2)"
   ]
  },
  {
   "cell_type": "code",
   "execution_count": null,
   "metadata": {},
   "outputs": [],
   "source": [
    "#####  A. I_love_%username%\n",
    "\n",
    "amazing=0\n",
    "\n",
    "n=int(input())\n",
    "point=list(map(int,input().split()))\n",
    "mini=point[0]\n",
    "maxi=point[0]\n",
    "for i in point:\n",
    "    if maxi<i:\n",
    "        maxi=i\n",
    "        amazing+=1\n",
    "    elif mini>i:\n",
    "        mini=i\n",
    "        amazing+=1        \n",
    "print(amazing)"
   ]
  },
  {
   "cell_type": "code",
   "execution_count": 26,
   "metadata": {
    "scrolled": true
   },
   "outputs": [
    {
     "name": "stdout",
     "output_type": "stream",
     "text": [
      "3 222\n",
      "2\n"
     ]
    }
   ],
   "source": [
    "#####    A. New Year and Hurry\n",
    "\n",
    "n,k=map(int,input().split())\n",
    "\n",
    "time=240\n",
    "total=0\n",
    "time=time-k\n",
    "for i in range(n+1):\n",
    "    total+=5*(i+1)\n",
    "    if total>time:\n",
    "        print(i)\n",
    "        break\n",
    "if i==n and total<time:\n",
    "    print(i)"
   ]
  },
  {
   "cell_type": "code",
   "execution_count": 7,
   "metadata": {},
   "outputs": [
    {
     "name": "stdout",
     "output_type": "stream",
     "text": [
      "4000 1 2 3\n",
      "5332.333333333334\n"
     ]
    }
   ],
   "source": [
    "####  A. Cut Ribbon\n",
    "maxi=0\n",
    "n,a,b,c=map(int,input().split())\n",
    "i=min(a,min(b,c))\n",
    "i=n//i\n",
    "for x in range(i):\n",
    "    for y in range(i):\n",
    "        z=(n-a*x-b*y)/c\n",
    "        if (a*x+b*y+c*z)==n:\n",
    "            maxi=max(maxi,x+y+z)\n",
    "print(maxi)"
   ]
  },
  {
   "cell_type": "code",
   "execution_count": null,
   "metadata": {},
   "outputs": [],
   "source": []
  },
  {
   "cell_type": "code",
   "execution_count": null,
   "metadata": {},
   "outputs": [],
   "source": []
  }
 ],
 "metadata": {
  "kernelspec": {
   "display_name": "Python 3",
   "language": "python",
   "name": "python3"
  },
  "language_info": {
   "codemirror_mode": {
    "name": "ipython",
    "version": 3
   },
   "file_extension": ".py",
   "mimetype": "text/x-python",
   "name": "python",
   "nbconvert_exporter": "python",
   "pygments_lexer": "ipython3",
   "version": "3.7.4"
  }
 },
 "nbformat": 4,
 "nbformat_minor": 2
}
